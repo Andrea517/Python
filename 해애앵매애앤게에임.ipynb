{
 "cells": [
  {
   "cell_type": "code",
   "execution_count": 3,
   "id": "71290d61",
   "metadata": {},
   "outputs": [],
   "source": [
    "import random"
   ]
  },
  {
   "cell_type": "code",
   "execution_count": 4,
   "id": "2b7df91a",
   "metadata": {},
   "outputs": [],
   "source": [
    "정답리스트 = ['apple','cherry','durian','grape','starfruit','silas','ezreal','mordekaiser']\n",
    "정답 = random.choice(정답리스트)\n",
    "누적입력알파벳 = ''"
   ]
  },
  {
   "cell_type": "code",
   "execution_count": 5,
   "id": "05312c93",
   "metadata": {},
   "outputs": [
    {
     "name": "stdout",
     "output_type": "stream",
     "text": [
      "_ _ _ _ _ 알파벳을 한 글자만 입력해주세요 : s\n",
      "_ _ _ _ _ 알파벳을 한 글자만 입력해주세요 : t\n",
      "_ _ _ _ _ 알파벳을 한 글자만 입력해주세요 : s\n",
      "_ _ _ _ _ 알파벳을 한 글자만 입력해주세요 : a\n",
      "a _ _ _ _ 알파벳을 한 글자만 입력해주세요 : p\n",
      "a p p _ _ 알파벳을 한 글자만 입력해주세요 : l\n",
      "a p p l _ 알파벳을 한 글자만 입력해주세요 : e\n",
      "a p p l e 성공하셨습니다!!\n"
     ]
    }
   ],
   "source": [
    "while(True):\n",
    "    성공여부 = True\n",
    "    for 알파벳 in 정답:\n",
    "        if 알파벳 in 누적입력알파벳:\n",
    "            print(알파벳, end= \" \")\n",
    "        else:\n",
    "            print(\"_\", end=\" \")\n",
    "            성공여부 = False\n",
    "            \n",
    "    if 성공여부 == True:\n",
    "        print(\"성공하셨습니다!!\")\n",
    "        break\n",
    "        \n",
    "    while(True):\n",
    "        입력알파벳 = input(\"알파벳을 한 글자만 입력해주세요 : \")\n",
    "        if len(입력알파벳) == 1:\n",
    "            break\n",
    "        else:\n",
    "            print(\"두 글자 이상을 입력하심 다시 입력 안하면 무한반복의 늪으로 빠짐\")\n",
    "    if 입력알파벳 not in 누적입력알파벳:\n",
    "        누적입력알파벳 += 입력알파벳\n",
    "            \n",
    "    "
   ]
  },
  {
   "cell_type": "code",
   "execution_count": null,
   "id": "ea8b6c0c",
   "metadata": {},
   "outputs": [],
   "source": []
  }
 ],
 "metadata": {
  "kernelspec": {
   "display_name": "Python 3 (ipykernel)",
   "language": "python",
   "name": "python3"
  },
  "language_info": {
   "codemirror_mode": {
    "name": "ipython",
    "version": 3
   },
   "file_extension": ".py",
   "mimetype": "text/x-python",
   "name": "python",
   "nbconvert_exporter": "python",
   "pygments_lexer": "ipython3",
   "version": "3.9.7"
  }
 },
 "nbformat": 4,
 "nbformat_minor": 5
}
